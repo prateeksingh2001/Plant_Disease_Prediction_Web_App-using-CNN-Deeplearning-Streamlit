{
  "nbformat": 4,
  "nbformat_minor": 0,
  "metadata": {
    "colab": {
      "provenance": [],
      "mount_file_id": "14vSculv5W0Sj8G7yrkB3xWEtk1t32Dqo",
      "authorship_tag": "ABX9TyM4efxPasCbuc+6ga9qCjSh",
      "include_colab_link": true
    },
    "kernelspec": {
      "name": "python3",
      "display_name": "Python 3"
    },
    "language_info": {
      "name": "python"
    }
  },
  "cells": [
    {
      "cell_type": "markdown",
      "metadata": {
        "id": "view-in-github",
        "colab_type": "text"
      },
      "source": [
        "<a href=\"https://colab.research.google.com/github/prateeksingh2001/Plant_Disease_Prediction_Web_App-using-CNN-Deeplearning-Streamlit/blob/main/Streamlit.ipynb\" target=\"_parent\"><img src=\"https://colab.research.google.com/assets/colab-badge.svg\" alt=\"Open In Colab\"/></a>"
      ]
    },
    {
      "cell_type": "code",
      "execution_count": 1,
      "metadata": {
        "id": "IZQpBoUzbHoZ",
        "outputId": "f6d6f209-7a31-4c5b-892b-ecc0b22807a7",
        "colab": {
          "base_uri": "https://localhost:8080/"
        }
      },
      "outputs": [
        {
          "output_type": "stream",
          "name": "stdout",
          "text": [
            "\u001b[2K     \u001b[90m━━━━━━━━━━━━━━━━━━━━━━━━━━━━━━━━━━━━━━━━\u001b[0m \u001b[32m44.3/44.3 kB\u001b[0m \u001b[31m2.3 MB/s\u001b[0m eta \u001b[36m0:00:00\u001b[0m\n",
            "\u001b[2K   \u001b[90m━━━━━━━━━━━━━━━━━━━━━━━━━━━━━━━━━━━━━━━━\u001b[0m \u001b[32m9.9/9.9 MB\u001b[0m \u001b[31m91.7 MB/s\u001b[0m eta \u001b[36m0:00:00\u001b[0m\n",
            "\u001b[2K   \u001b[90m━━━━━━━━━━━━━━━━━━━━━━━━━━━━━━━━━━━━━━━━\u001b[0m \u001b[32m6.9/6.9 MB\u001b[0m \u001b[31m94.4 MB/s\u001b[0m eta \u001b[36m0:00:00\u001b[0m\n",
            "\u001b[2K   \u001b[90m━━━━━━━━━━━━━━━━━━━━━━━━━━━━━━━━━━━━━━━━\u001b[0m \u001b[32m79.1/79.1 kB\u001b[0m \u001b[31m5.6 MB/s\u001b[0m eta \u001b[36m0:00:00\u001b[0m\n",
            "\u001b[?25h"
          ]
        }
      ],
      "source": [
        "!pip install --quiet streamlit pyngrok"
      ]
    },
    {
      "cell_type": "code",
      "source": [
        "%%writefile streamlit_app.py\n",
        "import streamlit as st\n",
        "import tensorflow as tf\n",
        "import numpy as np\n",
        "import os\n",
        "\n",
        "# Prediction function: saves upload to temp file, loads model & image\n",
        "def model_prediction(test_image):\n",
        "    # Save to temp path\n",
        "    tmp = \"/content/drive/MyDrive/datasets/temp_test.jpg\"\n",
        "    with open(tmp, \"wb\") as f:\n",
        "        f.write(test_image.read())\n",
        "\n",
        "    # Load and preprocess image\n",
        "    img = tf.keras.utils.load_img(tmp, target_size=(128, 128))\n",
        "    arr = tf.keras.utils.img_to_array(img)\n",
        "    batch = np.expand_dims(arr, axis=0)\n",
        "\n",
        "    # Load model from Drive\n",
        "    model = tf.keras.models.load_model(\"/content/drive/MyDrive/trained_model.keras\")\n",
        "\n",
        "    preds = model.predict(batch)\n",
        "\n",
        "    # Clean up\n",
        "    os.remove(tmp)\n",
        "\n",
        "    return int(np.argmax(preds))\n",
        "\n",
        "# Sidebar navigation\n",
        "st.sidebar.title(\"Dashboard\")\n",
        "mode = st.sidebar.selectbox(\"Select Page\", [\"Home\", \"About\", \"Disease Prediction\"])\n",
        "\n",
        "# Home page\n",
        "if mode == \"Home\":\n",
        "    st.header(\"PLANT DISEASE PREDICTION SYSTEM\")\n",
        "    st.image(\"/content/drive/MyDrive/datasets/home_page.jpeg\", use_container_width=True)\n",
        "    st.markdown(\"\"\"\n",
        "    Welcome to the Plant Disease Prediction System! 🌿🔍\n",
        "    Navigate to “Disease Predction” to upload an image for analysis.\n",
        "    \"\"\")\n",
        "\n",
        "# About page\n",
        "elif mode == \"About\":\n",
        "    st.header(\"About\")\n",
        "    st.markdown(\"\"\"\n",
        "    **Dataset:** ~87K images, 38 classes (80/20 train/valid), plus 33 test images.\n",
        "    **Model:** Trained Keras `.keras` archive loaded at runtime.\n",
        "    \"\"\")\n",
        "\n",
        "# Prediction page\n",
        "elif mode == \"Disease Prediction\":\n",
        "    st.header(\"Disease prediction\")\n",
        "    file = st.file_uploader(\"Choose an Image:\", type=[\"jpg\",\"png\",\"jpeg\"])\n",
        "    if file and st.button(\"Show Image\"):\n",
        "        st.image(file, use_container_width=True)\n",
        "    if file and st.button(\"Predict\"):\n",
        "        st.snow()\n",
        "        idx = model_prediction(file)\n",
        "        classes = ['Apple___Apple_scab', 'Apple___Black_rot', 'Apple___Cedar_apple_rust', 'Apple___healthy',\n",
        "                    'Blueberry___healthy', 'Cherry_(including_sour)___Powdery_mildew',\n",
        "                    'Cherry_(including_sour)___healthy', 'Corn_(maize)___Cercospora_leaf_spot Gray_leaf_spot',\n",
        "                    'Corn_(maize)___Common_rust_', 'Corn_(maize)___Northern_Leaf_Blight', 'Corn_(maize)___healthy',\n",
        "                    'Grape___Black_rot', 'Grape___Esca_(Black_Measles)', 'Grape___Leaf_blight_(Isariopsis_Leaf_Spot)',\n",
        "                    'Grape___healthy', 'Orange___Haunglongbing_(Citrus_greening)', 'Peach___Bacterial_spot',\n",
        "                    'Peach___healthy', 'Pepper,_bell___Bacterial_spot', 'Pepper,_bell___healthy',\n",
        "                    'Potato___Early_blight', 'Potato___Late_blight', 'Potato___healthy',\n",
        "                    'Raspberry___healthy', 'Soybean___healthy', 'Squash___Powdery_mildew',\n",
        "                    'Strawberry___Leaf_scorch', 'Strawberry___healthy', 'Tomato___Bacterial_spot',\n",
        "                    'Tomato___Early_blight', 'Tomato___Late_blight', 'Tomato___Leaf_Mold',\n",
        "                    'Tomato___Septoria_leaf_spot', 'Tomato___Spider_mites Two-spotted_spider_mite',\n",
        "                    'Tomato___Target_Spot', 'Tomato___Tomato_Yellow_Leaf_Curl_Virus', 'Tomato___Tomato_mosaic_virus',\n",
        "                      'Tomato___healthy']\n",
        "\n",
        "        st.success(f\"Prediction: **{classes[idx]}**\")"
      ],
      "metadata": {
        "colab": {
          "base_uri": "https://localhost:8080/"
        },
        "id": "osYwuohIbOF1",
        "outputId": "ee066f61-790e-45a4-bfb8-2616a9fb47d1"
      },
      "execution_count": 2,
      "outputs": [
        {
          "output_type": "stream",
          "name": "stdout",
          "text": [
            "Writing streamlit_app.py\n"
          ]
        }
      ]
    },
    {
      "cell_type": "code",
      "source": [
        "import os\n",
        "# Ensure no previous Streamlit instance is running (run this cell)\n",
        "os.system(\"pkill streamlit\")\n",
        "\n",
        "# Run the app without blocking\n",
        "get_ipython().system_raw('streamlit run streamlit_app.py --server.enableCORS false &')"
      ],
      "metadata": {
        "id": "XW1vdEx_bfSj"
      },
      "execution_count": 3,
      "outputs": []
    },
    {
      "cell_type": "markdown",
      "source": [],
      "metadata": {
        "id": "TixAN7MKCGZH"
      }
    },
    {
      "cell_type": "code",
      "source": [
        "from pyngrok import ngrok\n",
        "\n",
        "# **Crucially, replace this with the NEW, VERIFIED auth token from your ngrok dashboard**\n",
        "ngrok.set_auth_token(\"2xIl1SetubY4mCilhNo4xCiorGH_4xyfsNtkjagHriDpVoDDt\")\n",
        "\n",
        "# Open HTTP tunnel on port 8501 (run this cell after setting the token)\n",
        "public_url = ngrok.connect(8501, \"http\")\n",
        "print(\"🔗 Streamlit public URL:\", public_url)"
      ],
      "metadata": {
        "colab": {
          "base_uri": "https://localhost:8080/"
        },
        "id": "1XEDeALEb83N",
        "outputId": "44d4a1a3-5b0b-496d-a7a2-c1ce432d569e"
      },
      "execution_count": 4,
      "outputs": [
        {
          "output_type": "stream",
          "name": "stdout",
          "text": [
            "🔗 Streamlit public URL: NgrokTunnel: \"https://81903c08e94e.ngrok-free.app\" -> \"http://localhost:8501\"\n"
          ]
        }
      ]
    },
    {
      "cell_type": "code",
      "source": [],
      "metadata": {
        "id": "0C3SDkqKoEIM"
      },
      "execution_count": null,
      "outputs": []
    }
  ]
}